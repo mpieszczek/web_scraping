{
 "cells": [
  {
   "attachments": {},
   "cell_type": "markdown",
   "metadata": {},
   "source": [
    "## Below code creates Lotto statistics.\n",
    "\n",
    "It shows 6 most common numbers in last `N`-years.\n",
    "\n",
    "Data comes from page: https://megalotto.pl/wyniki/lotto."
   ]
  },
  {
   "cell_type": "code",
   "execution_count": 271,
   "metadata": {},
   "outputs": [],
   "source": [
    "%%bash\n",
    "mkdir LOTTO -p"
   ]
  },
  {
   "cell_type": "code",
   "execution_count": 272,
   "metadata": {},
   "outputs": [],
   "source": [
    "#saving lotto data to text file\n",
    "import datetime, bs4, requests, os\n",
    "from matplotlib import pyplot as plt\n",
    "\n",
    "def save_lotto_data(filepath, years_back, N = 100):\n",
    "    \"\"\"\n",
    "    Function reads in packs of N lotto results,\n",
    "    until result date gets over years_back period.\n",
    "    parameters in url:\n",
    "    'date,%Y-%m-%d,N' - request gives you N results from given date back.\n",
    "    \"\"\"\n",
    "    main_url = 'https://www.lotto.pl/lotto/wyniki-i-wygrane/'\n",
    "    days_in_year = 365.25\n",
    "    today = datetime.datetime.today()\n",
    "    curr_date = today.strftime('%Y-%m-%d')\n",
    "    with open(filepath,'w') as file:\n",
    "        while True:\n",
    "            # Get soup\n",
    "            suffix = ','.join([\"date\", curr_date, str(N)])\n",
    "            lotto_url = main_url + suffix\n",
    "            lotto_request = requests.get(lotto_url, headers={'User-Agent': 'Chrome'})\n",
    "            lotto_request.encoding = 'utf-8'\n",
    "            lotto_request.raise_for_status()\n",
    "            soup = bs4.BeautifulSoup(lotto_request.text)\n",
    "\n",
    "\n",
    "            # separate days to list\n",
    "            results = soup.find(attrs={'class': 'game-results-container'})\n",
    "            results = list(results.children)\n",
    "            \n",
    "            # for each date get numbers and date\n",
    "            for i in range(N):\n",
    "                result = results[i]\n",
    "                day_info = result.find(\n",
    "                    attrs = {'class' : 'game-main-header'}).find(\n",
    "                    attrs = {'class':'sg__desc-title'})\n",
    "                dt_str = day_info.get_text().split(',')[1].strip()\n",
    "                dt_obj = datetime.datetime.strptime(dt_str, '%d.%m.%Y')\n",
    "                curr_date = dt_obj.strftime('%Y-%m-%d')\n",
    "                \n",
    "                if (today - dt_obj).days/days_in_year > years_back:\n",
    "                    return\n",
    "                \n",
    "                # lotto has tag result-item, lotto-plus and super szansa have proper sufixes in those tags\n",
    "                lotto_result = result.find(attrs = {'class':'game-main-body-box'}).find(attrs = {'class':'result-item'})\n",
    "                numbers = list(lotto_result.find_all(attrs={'class':\"scoreline-item circle\"}))\n",
    "                numbers = [int(i.text) for i in numbers]\n",
    "                file.write(\";\".join([curr_date, str(numbers)])+'\\n')\n"
   ]
  },
  {
   "cell_type": "code",
   "execution_count": 273,
   "metadata": {},
   "outputs": [],
   "source": [
    "def get_frequencies(filepath):\n",
    "    \"\"\"\n",
    "    Returns frequency table of lotto numbers,\n",
    "    with aditional begin and end date of sample.\n",
    "    In file ther can be repetitions so we delete them here.\n",
    "    There sould be unique record for each date.\n",
    "    \"\"\"\n",
    "    nums_dict = {}\n",
    "    dates = set()\n",
    "    with open(filepath,'r') as file:\n",
    "        for line in file.readlines():\n",
    "            date, nums_str = line.split(';')\n",
    "            if date in dates:\n",
    "                continue\n",
    "            dates.add(date)\n",
    "            nums_str = nums_str[1:-2].split(',')\n",
    "            nums = [int(i) for i in nums_str]\n",
    "            for i in nums:\n",
    "                if i in nums_dict.keys():\n",
    "                    nums_dict[i] += 1\n",
    "                else:\n",
    "                    nums_dict[i] = 1\n",
    "    return nums_dict, min(dates), max(dates)"
   ]
  },
  {
   "cell_type": "code",
   "execution_count": 274,
   "metadata": {},
   "outputs": [],
   "source": [
    "def show_results(filepath):\n",
    "    \"\"\"\n",
    "    Show results in table and on plot.\n",
    "    \"\"\"\n",
    "    nums_dict, min_date, max_date = get_frequencies(filepath)\n",
    "    omega = sum(nums_dict.values())\n",
    "    # ------- TABLE ----------\n",
    "    sorted_keys = sorted(nums_dict, key=nums_dict.__getitem__,reverse = True)\n",
    "    print(f\"NUM\\tTIMES\\tPRC\")\n",
    "    for k in sorted_keys[:6]:\n",
    "        print(f\"{k}\\t{nums_dict[k]}\\t{nums_dict[k]/omega*100:.2f}%\")\n",
    "        \n",
    "    # ------- PLOT -----------\n",
    "    fig, ax = plt.subplots()\n",
    "    plt.bar(x = nums_dict.keys(),\n",
    "            height = [val/omega*100 for val in nums_dict.values()], \n",
    "            width=0.8,\n",
    "            align='center')\n",
    "    ax.set_ylabel('Procent')\n",
    "    ax.set_xlabel('Liczby')\n",
    "    ax.set_xticks(list(nums_dict.keys()))\n",
    "    ax.set_xticklabels(list(nums_dict.keys()))\n",
    "    ax.set_title(f'Procentowe występowanie liczb od {min_date} do {max_date}')\n",
    "    fig.set_figwidth(20)\n",
    "    fig.set_figheight(10)\n",
    "    plt.show()"
   ]
  },
  {
   "cell_type": "code",
   "execution_count": 275,
   "metadata": {},
   "outputs": [],
   "source": [
    "save_lotto_data('LOTTO/lotto_results',years_back=4)"
   ]
  },
  {
   "cell_type": "code",
   "execution_count": 276,
   "metadata": {},
   "outputs": [
    {
     "name": "stdout",
     "output_type": "stream",
     "text": [
      "NUM\tTIMES\tPRC\n",
      "27\t97\t2.58%\n",
      "15\t96\t2.56%\n",
      "1\t95\t2.53%\n",
      "38\t95\t2.53%\n",
      "25\t94\t2.50%\n",
      "3\t92\t2.45%\n"
     ]
    },
    {
     "data": {
      "image/png": "[encoded data removed]",
      "text/plain": [
       "<Figure size 1440x720 with 1 Axes>"
      ]
     },
     "metadata": {
      "needs_background": "light"
     },
     "output_type": "display_data"
    }
   ],
   "source": [
    "show_results('LOTTO/lotto_results')"
   ]
  }
 ],
 "metadata": {
  "kernelspec": {
   "display_name": "Python 3",
   "language": "python",
   "name": "python3"
  },
  "language_info": {
   "codemirror_mode": {
    "name": "ipython",
    "version": 3
   },
   "file_extension": ".py",
   "mimetype": "text/x-python",
   "name": "python",
   "nbconvert_exporter": "python",
   "pygments_lexer": "ipython3",
   "version": "3.8.10"
  }
 },
 "nbformat": 4,
 "nbformat_minor": 4
}
