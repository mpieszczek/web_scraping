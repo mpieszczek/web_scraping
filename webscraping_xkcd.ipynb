{
 "cells": [
  {
   "attachments": {},
   "cell_type": "markdown",
   "metadata": {},
   "source": [
    "### Code below dowloads all XKCD commics.\n",
    "\n",
    "#### In short how it works:\n",
    "1. Loads main page\n",
    "2. Saves image published on that page\n",
    "3. Goes to page pointed by link `Previous Comic`\n",
    "4. Repeats operation until the oldest comic is downloaded\n"
   ]
  },
  {
   "cell_type": "code",
   "execution_count": 1,
   "metadata": {},
   "outputs": [],
   "source": [
    "%%bash\n",
    "mkdir XKCD -p"
   ]
  },
  {
   "attachments": {},
   "cell_type": "markdown",
   "metadata": {},
   "source": [
    "# Downloading last comic parameters"
   ]
  },
  {
   "cell_type": "code",
   "execution_count": 2,
   "metadata": {},
   "outputs": [
    {
     "name": "stdout",
     "output_type": "stream",
     "text": [
      "2755\n"
     ]
    }
   ],
   "source": [
    "import bs4, requests, os\n",
    "\n",
    "xkcdurl = 'https://xkcd.com/'\n",
    "xkcd = requests.get(xkcdurl, headers={'User-Agent': 'Chrome'})\n",
    "xkcd.encoding = 'utf-8'\n",
    "xkcd.raise_for_status()\n",
    "\n",
    "soup = bs4.BeautifulSoup(xkcd.text,'html.parser')\n",
    "\n",
    "link_to_last = soup.head.find(attrs = {'property':'og:url'})['content']\n",
    "last_num = link_to_last.replace(xkcdurl, '').replace('/','')\n",
    "last_num = int(last_num)\n",
    "print(last_num)\n",
    "\n",
    "dir_name = 'XKCD'"
   ]
  },
  {
   "attachments": {},
   "cell_type": "markdown",
   "metadata": {},
   "source": [
    "## Iteration through the pages and downloading pictures\n",
    "\n",
    "### !!! MIGHT TAKE SOME TIME !!!\n",
    "\n",
    "We need to try catch, not only because we can lose connection\n",
    "but some comics are non-standard. E.g.\n",
    "\n",
    "Does not exist: https://xkcd.com/404\n",
    "\n",
    "Non-static images: https://xkcd.com/1350, https://xkcd.com/1416, https://xkcd.com/1525, https://xkcd.com/1608, https://xkcd.com/1663, https://xkcd.com/2067, https://xkcd.com/2198"
   ]
  },
  {
   "cell_type": "code",
   "execution_count": null,
   "metadata": {},
   "outputs": [],
   "source": [
    "for i in range(1,last_num+1):\n",
    "    url = xkcdurl+str(i)\n",
    "    try:\n",
    "        r = requests.get(url, headers={'User-Agent': 'Chrome'})\n",
    "        r.encoding = 'utf-8'\n",
    "        r.raise_for_status()\n",
    "        soup = bs4.BeautifulSoup(r.text,'html.parser')\n",
    "        img_url = 'https:'+soup.find(attrs = {'id':'comic'}).img['src']\n",
    "        file_format = img_url.split('.')[-1]\n",
    "        file_name = 'comic_' + (str(i).rjust(4,'0')) + '.' + file_format\n",
    "        file_name = os.path.join(dir_name,file_name)\n",
    "        with open(file_name,'wb') as file:\n",
    "            req = requests.get(img_url)\n",
    "            file.write(req.content)\n",
    "    except Exception as e:\n",
    "        print(url)\n",
    "        print(e)\n",
    "        continue"
   ]
  }
 ],
 "metadata": {
  "kernelspec": {
   "display_name": "Python 3",
   "language": "python",
   "name": "python3"
  },
  "language_info": {
   "codemirror_mode": {
    "name": "ipython",
    "version": 3
   },
   "file_extension": ".py",
   "mimetype": "text/x-python",
   "name": "python",
   "nbconvert_exporter": "python",
   "pygments_lexer": "ipython3",
   "version": "3.8.10"
  }
 },
 "nbformat": 4,
 "nbformat_minor": 4
}
